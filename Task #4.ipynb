#������� 1
from datetime import *
data=['2018-01-01', '2018-01-06']

def date_range(startDate, endDate):
	startDate=datetime.strptime(startDate,"%Y-%m-%d")
	endDate=datetime.strptime(endDate,"%Y-%m-%d")
	currentDate=[startDate]
	while currentDate[-1]<endDate-timedelta(days=1):
		currentDate.append(currentDate[-1]+timedelta(days=1))
	for i in range(len(currentDate)):
		currentDate[i]=currentDate[i].strftime("%Y-%m-%d")
	return currentDate[1]

print(date_range(data[0],data[1]))

#������� 2

from datetime import *
data=['2018-01-07', '2018-01-06']

def date_range(startDate, endDate):
	try:
		startDate=datetime.strptime(startDate,"%Y-%m-%d")
		endDate=datetime.strptime(endDate,"%Y-%m-%d")
		if startDate>endDate: return []
		else:
		currentDate=[startDate]
		while currentDate[-1]<endDate-timedelta(days=1):
			currentDate.append(currentDate[-1]+timedelta(days=1))
		#convert to date format
		for i in range(len(currentDate)):
			currentDate[i]=currentDate[i].strftime("%Y-%m-%d")
	except: return []
return currentDate[1:]

print(date_range(data[0],data[1]))


#������� 3

from datetime import *
stream = ['2018-04-02', '2018-02-29', '2018-19-02']

def dateCheck(stream):
	result=[]
	for i in range(len(stream)):
		try:
			datetime.strptime(stream[i],"%Y-%m-%d")
			result.append('True')
		except:
			result.append('False')
	return result

print(dateCheck(stream))


#������� 4

from datetime import *

def dateGet():
	currentDate=datetime.date(datetime.today())-timedelta(days=1)
	#Check up for any date you want
	#currentDate=date(2019, 3, 1)
	#currentDate= currentDate-timedelta(days=1)
	spisokDate=[currentDate]
	while currentDate.month==spisokDate[-1].month:
		spisokDate.append(spisokDate[-1]-timedelta(days=1))
	#convert to date format
	for i in range(len(spisokDate)): 
		spisokDate[i]=spisokDate[i].strftime("%Y-%m-%d")
	spisokDate.reverse()
	return spisokDate[1:]

print(dateGet())


#������� 5

from datetime import * 

def returnDate(word): 
	currentDate=datetime.date((datetime.now()))
	#Check up any date 
	#currentDate=date(2019, 3, 4) 
	if word == 'today': 
		return currentDate 
	if word == 'last monday': 
		if currentDate.weekday()==0: return currentDate-timedelta(days= 7)
		else: return currentDate-timedelta(days= currentDate.weekday()) 
	if word == 'last day': 
		return currentDate.replace(month=currentDate.month+1, day=1)-timedelta(days=1) 
	else: return 'Error' 

print('Input:\ntoday\nlast monday\nlast day\n') 
print(returnDate(input()))
